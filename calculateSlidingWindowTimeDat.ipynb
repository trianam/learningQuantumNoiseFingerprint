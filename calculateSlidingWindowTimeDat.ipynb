{
 "cells": [
  {
   "cell_type": "code",
   "execution_count": 1,
   "metadata": {
    "collapsed": true
   },
   "outputs": [],
   "source": [
    "import pandas as pd\n",
    "import numpy as np\n",
    "import os"
   ]
  },
  {
   "cell_type": "code",
   "execution_count": 2,
   "outputs": [],
   "source": [
    "#==========================================================================================\n",
    "# inputFiles = \"D{}.dat\"\n",
    "# outputFiles = \"timeAccSlidingWindow{}.dat\"\n",
    "# windowsStarts = [200, 600, 800, 1000, 1200]\n",
    "#==========================================================================================\n",
    "# inputFiles = \"E{}.dat\"\n",
    "# outputFiles = \"timeAccSlidingWindowE{}.dat\"\n",
    "# windowsStarts = [400, 800, 1200]\n",
    "#==========================================================================================\n",
    "inputFiles = \"F{}.dat\"\n",
    "outputFiles = \"timeAccSlidingWindowF{}.dat\"\n",
    "windowsStarts = [400, 800, 1200]"
   ],
   "metadata": {
    "collapsed": false,
    "pycharm": {
     "name": "#%%\n"
    }
   }
  },
  {
   "cell_type": "code",
   "execution_count": 3,
   "outputs": [],
   "source": [
    "dfAcc = [pd.read_csv(os.path.join(\"files\", inputFiles.format(j)), names=['acc']) for j in range(len(windowsStarts))]\n",
    "dfTimes = pd.read_csv(os.path.join(\"files\", \"walkerSlowTime-ibmq_belem.dat\"), sep=' ', names=['run', 'hour'])"
   ],
   "metadata": {
    "collapsed": false,
    "pycharm": {
     "name": "#%%\n"
    }
   }
  },
  {
   "cell_type": "code",
   "execution_count": 4,
   "outputs": [
    {
     "data": {
      "text/plain": "          acc\n0     0.86875\n1     0.86875\n2     0.86875\n3     0.88750\n4     0.85000\n...       ...\n1195  0.97500\n1196  0.98125\n1197  1.00000\n1198  0.98750\n1199  0.99375\n\n[1200 rows x 1 columns]",
      "text/html": "<div>\n<style scoped>\n    .dataframe tbody tr th:only-of-type {\n        vertical-align: middle;\n    }\n\n    .dataframe tbody tr th {\n        vertical-align: top;\n    }\n\n    .dataframe thead th {\n        text-align: right;\n    }\n</style>\n<table border=\"1\" class=\"dataframe\">\n  <thead>\n    <tr style=\"text-align: right;\">\n      <th></th>\n      <th>acc</th>\n    </tr>\n  </thead>\n  <tbody>\n    <tr>\n      <th>0</th>\n      <td>0.86875</td>\n    </tr>\n    <tr>\n      <th>1</th>\n      <td>0.86875</td>\n    </tr>\n    <tr>\n      <th>2</th>\n      <td>0.86875</td>\n    </tr>\n    <tr>\n      <th>3</th>\n      <td>0.88750</td>\n    </tr>\n    <tr>\n      <th>4</th>\n      <td>0.85000</td>\n    </tr>\n    <tr>\n      <th>...</th>\n      <td>...</td>\n    </tr>\n    <tr>\n      <th>1195</th>\n      <td>0.97500</td>\n    </tr>\n    <tr>\n      <th>1196</th>\n      <td>0.98125</td>\n    </tr>\n    <tr>\n      <th>1197</th>\n      <td>1.00000</td>\n    </tr>\n    <tr>\n      <th>1198</th>\n      <td>0.98750</td>\n    </tr>\n    <tr>\n      <th>1199</th>\n      <td>0.99375</td>\n    </tr>\n  </tbody>\n</table>\n<p>1200 rows × 1 columns</p>\n</div>"
     },
     "execution_count": 4,
     "metadata": {},
     "output_type": "execute_result"
    }
   ],
   "source": [
    "dfAcc[0]"
   ],
   "metadata": {
    "collapsed": false,
    "pycharm": {
     "name": "#%%\n"
    }
   }
  },
  {
   "cell_type": "code",
   "execution_count": 5,
   "outputs": [
    {
     "data": {
      "text/plain": "       run        hour\n0        0   12.905556\n1        1   12.958333\n2        2   13.031389\n3        3   13.082778\n4        4   13.133889\n...    ...         ...\n1994  1994  204.492222\n1995  1995  204.547222\n1996  1996  204.778333\n1997  1997  205.784167\n1998  1998  205.835556\n\n[1999 rows x 2 columns]",
      "text/html": "<div>\n<style scoped>\n    .dataframe tbody tr th:only-of-type {\n        vertical-align: middle;\n    }\n\n    .dataframe tbody tr th {\n        vertical-align: top;\n    }\n\n    .dataframe thead th {\n        text-align: right;\n    }\n</style>\n<table border=\"1\" class=\"dataframe\">\n  <thead>\n    <tr style=\"text-align: right;\">\n      <th></th>\n      <th>run</th>\n      <th>hour</th>\n    </tr>\n  </thead>\n  <tbody>\n    <tr>\n      <th>0</th>\n      <td>0</td>\n      <td>12.905556</td>\n    </tr>\n    <tr>\n      <th>1</th>\n      <td>1</td>\n      <td>12.958333</td>\n    </tr>\n    <tr>\n      <th>2</th>\n      <td>2</td>\n      <td>13.031389</td>\n    </tr>\n    <tr>\n      <th>3</th>\n      <td>3</td>\n      <td>13.082778</td>\n    </tr>\n    <tr>\n      <th>4</th>\n      <td>4</td>\n      <td>13.133889</td>\n    </tr>\n    <tr>\n      <th>...</th>\n      <td>...</td>\n      <td>...</td>\n    </tr>\n    <tr>\n      <th>1994</th>\n      <td>1994</td>\n      <td>204.492222</td>\n    </tr>\n    <tr>\n      <th>1995</th>\n      <td>1995</td>\n      <td>204.547222</td>\n    </tr>\n    <tr>\n      <th>1996</th>\n      <td>1996</td>\n      <td>204.778333</td>\n    </tr>\n    <tr>\n      <th>1997</th>\n      <td>1997</td>\n      <td>205.784167</td>\n    </tr>\n    <tr>\n      <th>1998</th>\n      <td>1998</td>\n      <td>205.835556</td>\n    </tr>\n  </tbody>\n</table>\n<p>1999 rows × 2 columns</p>\n</div>"
     },
     "execution_count": 5,
     "metadata": {},
     "output_type": "execute_result"
    }
   ],
   "source": [
    "dfTimes"
   ],
   "metadata": {
    "collapsed": false,
    "pycharm": {
     "name": "#%%\n"
    }
   }
  },
  {
   "cell_type": "code",
   "execution_count": 6,
   "outputs": [],
   "source": [
    "for j,w in enumerate(windowsStarts):\n",
    "    dfAcc[j]['acc'] = dfAcc[j]['acc'] * 100\n",
    "    # dfAcc[j]['hour'] = [dfTimes['hour'].iloc[i] - dfTimes['hour'].iloc[w] for i in range(w, w+len(dfAcc[j]))]\n",
    "    # dfAcc[j]['hour'] = [dfTimes['hour'].iloc[i] - dfTimes['hour'].iloc[windowsStarts[0]] for i in range(w, w+len(dfAcc[j]))]\n",
    "    dfAcc[j]['hour'] = [dfTimes['hour'].iloc[i] - dfTimes['hour'].iloc[0] for i in range(w, w+len(dfAcc[j]))]"
   ],
   "metadata": {
    "collapsed": false,
    "pycharm": {
     "name": "#%%\n"
    }
   }
  },
  {
   "cell_type": "code",
   "execution_count": 7,
   "outputs": [
    {
     "data": {
      "text/plain": "[          acc        hour\n 0      86.875   25.987778\n 1      86.875   26.039167\n 2      86.875   26.090556\n 3      88.750   26.169444\n 4      85.000   26.216389\n ...       ...         ...\n 1195   97.500  162.300556\n 1196   98.125  162.446389\n 1197  100.000  162.573889\n 1198   98.750  162.636667\n 1199   99.375  162.726944\n \n [1200 rows x 2 columns],\n         acc        hour\n 0    86.875   54.233333\n 1    81.875   54.284722\n 2    84.375   54.359444\n 3    83.125   54.455833\n 4    86.250   54.513889\n ..      ...         ...\n 795  98.750  162.300556\n 796  97.500  162.446389\n 797  99.375  162.573889\n 798  97.500  162.636667\n 799  98.750  162.726944\n \n [800 rows x 2 columns],\n         acc        hour\n 0    84.375   86.661667\n 1    85.000   86.760278\n 2    80.625   86.811111\n 3    83.125   86.890000\n 4    82.500   86.936944\n ..      ...         ...\n 395  93.750  162.300556\n 396  92.500  162.446389\n 397  93.125  162.573889\n 398  94.375  162.636667\n 399  93.750  162.726944\n \n [400 rows x 2 columns]]"
     },
     "execution_count": 7,
     "metadata": {},
     "output_type": "execute_result"
    }
   ],
   "source": [
    "dfAcc"
   ],
   "metadata": {
    "collapsed": false,
    "pycharm": {
     "name": "#%%\n"
    }
   }
  },
  {
   "cell_type": "code",
   "execution_count": 8,
   "outputs": [
    {
     "name": "stdout",
     "output_type": "stream",
     "text": [
      "writing in files/timeAccSlidingWindowF0.dat\n",
      "writing in files/timeAccSlidingWindowF1.dat\n",
      "writing in files/timeAccSlidingWindowF2.dat\n"
     ]
    }
   ],
   "source": [
    "for j in range(len(windowsStarts)):\n",
    "    currOutputFile = os.path.join(\"files\", outputFiles.format(j))\n",
    "    print(\"writing in \"+currOutputFile)\n",
    "    dfAcc[j].to_csv(currOutputFile, sep=' ', header=False, index=False, columns=['hour', 'acc'])"
   ],
   "metadata": {
    "collapsed": false,
    "pycharm": {
     "name": "#%%\n"
    }
   }
  },
  {
   "cell_type": "code",
   "execution_count": 8,
   "outputs": [],
   "source": [],
   "metadata": {
    "collapsed": false,
    "pycharm": {
     "name": "#%%\n"
    }
   }
  }
 ],
 "metadata": {
  "kernelspec": {
   "display_name": "Python 3",
   "language": "python",
   "name": "python3"
  },
  "language_info": {
   "codemirror_mode": {
    "name": "ipython",
    "version": 2
   },
   "file_extension": ".py",
   "mimetype": "text/x-python",
   "name": "python",
   "nbconvert_exporter": "python",
   "pygments_lexer": "ipython2",
   "version": "2.7.6"
  }
 },
 "nbformat": 4,
 "nbformat_minor": 0
}